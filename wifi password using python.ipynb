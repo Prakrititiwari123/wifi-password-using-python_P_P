{
 "cells": [
  {
   "cell_type": "code",
   "execution_count": 1,
   "id": "7fdb0643",
   "metadata": {},
   "outputs": [
    {
     "name": "stdout",
     "output_type": "stream",
     "text": [
      "Redmi                         |  prakriti\n",
      "TECNO POVA 5 Pro 5G           |  12345678\n",
      "Airtel_nish_8145              |  air73590\n",
      "RGPV HOSTEL 94 (BSNL)         |  12345678\n",
      "TECNO SPARK 6 Go              |  9893629421\n",
      "Riya Tiwari                   |  radhakrishna\n",
      "Khushi's Galaxy A22           |  anchal67\n",
      "RGPV HOSTEL 2 (BSNL)          |  12345678\n",
      "Galaxy Tab A74608             |  20231111\n",
      "RGPV HOSTEL 1 (BSNL)          |  12345678\n",
      "RGPV HOSTEL 4 (BSNL)          |  12345678\n",
      "GIRLS HOSTEL                  |  \n",
      "Nothing Phone                 |  0d1c63ae0293\n",
      "Survival_signal_5G            |  66778899\n",
      "Buggatti24                    |  rokade1624\n",
      "No Data                       |  April0404\n",
      "OPPO A12                      |  6265226911\n",
      "realme C2                     |  12345678\n",
      "Became Ips                    |  le bhikari\n",
      "Realme 9                      |  Anurag tiwari\n",
      "Jio 5G                        |  123454321\n"
     ]
    }
   ],
   "source": [
    "import subprocess\n",
    "\n",
    "data = (\n",
    "    subprocess.check_output([\"netsh\", \"wlan\", \"show\", \"profiles\"])\n",
    "    .decode(\"utf-8\")\n",
    "    .split(\"\\n\")\n",
    ")\n",
    "profiles = [i.split(\":\")[1][1:-1] for i in data if \"All User Profile\" in i]\n",
    "for i in profiles:\n",
    "    results = (\n",
    "        subprocess\n",
    "        .check_output([\"netsh\", \"wlan\", \"show\", \"profile\", i, \"key=clear\"])\n",
    "        .decode(\"utf-8\")\n",
    "        .split(\"\\n\")\n",
    "    )\n",
    "    results = [b.split(\":\")[1][1:-1] for b in results if \"Key Content\" in b]\n",
    "    try:\n",
    "        print(\"{:<30}|  {:<}\".format(i, results[0]))\n",
    "    except IndexError:\n",
    "        print(\"{:<30}|  {:<}\".format(i, \"\"))"
   ]
  },
  {
   "cell_type": "code",
   "execution_count": null,
   "id": "d14211a2",
   "metadata": {},
   "outputs": [],
   "source": []
  }
 ],
 "metadata": {
  "kernelspec": {
   "display_name": "Python 3 (ipykernel)",
   "language": "python",
   "name": "python3"
  },
  "language_info": {
   "codemirror_mode": {
    "name": "ipython",
    "version": 3
   },
   "file_extension": ".py",
   "mimetype": "text/x-python",
   "name": "python",
   "nbconvert_exporter": "python",
   "pygments_lexer": "ipython3",
   "version": "3.9.13"
  }
 },
 "nbformat": 4,
 "nbformat_minor": 5
}
